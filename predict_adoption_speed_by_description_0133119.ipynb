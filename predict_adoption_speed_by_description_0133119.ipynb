{
 "cells": [
  {
   "cell_type": "code",
   "execution_count": 1,
   "metadata": {},
   "outputs": [
    {
     "name": "stdout",
     "output_type": "stream",
     "text": [
      "(11244,)\n",
      "10864    This handsome fellow is looking for a loving h...\n",
      "8669     5 adorable kittens and 1 mother cat for adopti...\n",
      "6105     Looking for a good home for this kitten. Left ...\n",
      "10506    Kindly contact us if interested in adopting th...\n",
      "2932     I have a mix husky which is 6 yrs old, it neve...\n",
      "Name: Description, dtype: object\n",
      "(3749,)\n",
      "12078    The puppy is currently taking shelter at SPCA ...\n",
      "2475     The puppy fostered at my friend's house at Sg....\n",
      "1259     A stray mum gave birth to this six female pupp...\n",
      "8767                       Tame, active, cute and playful.\n",
      "2540     Emma was found trapping in a drain in a heavy ...\n",
      "Name: Description, dtype: object\n",
      "(11244,)\n",
      "10864    0\n",
      "8669     3\n",
      "6105     2\n",
      "10506    4\n",
      "2932     3\n",
      "Name: AdoptionSpeed, dtype: int64\n",
      "(3749,)\n",
      "12078    3\n",
      "2475     1\n",
      "1259     3\n",
      "8767     2\n",
      "2540     4\n",
      "Name: AdoptionSpeed, dtype: int64\n",
      "<11244x4961 sparse matrix of type '<class 'numpy.int64'>'\n",
      "\twith 274275 stored elements in Compressed Sparse Row format>\n",
      "[[0 0 0 ... 0 0 0]\n",
      " [0 0 0 ... 0 0 0]\n",
      " [0 0 0 ... 0 0 0]\n",
      " ...\n",
      " [0 0 0 ... 0 0 0]\n",
      " [0 0 0 ... 0 0 0]\n",
      " [0 0 0 ... 0 0 0]]\n",
      "<3749x4961 sparse matrix of type '<class 'numpy.int64'>'\n",
      "\twith 92023 stored elements in Compressed Sparse Row format>\n"
     ]
    },
    {
     "name": "stderr",
     "output_type": "stream",
     "text": [
      "C:\\Users\\guowc_000\\Anaconda3\\lib\\site-packages\\sklearn\\linear_model\\logistic.py:433: FutureWarning: Default solver will be changed to 'lbfgs' in 0.22. Specify a solver to silence this warning.\n",
      "  FutureWarning)\n",
      "C:\\Users\\guowc_000\\Anaconda3\\lib\\site-packages\\sklearn\\linear_model\\logistic.py:460: FutureWarning: Default multi_class will be changed to 'auto' in 0.22. Specify the multi_class option to silence this warning.\n",
      "  \"this warning.\", FutureWarning)\n"
     ]
    },
    {
     "name": "stdout",
     "output_type": "stream",
     "text": [
      "Training mean cross val score: 0.35\n"
     ]
    },
    {
     "name": "stderr",
     "output_type": "stream",
     "text": [
      "C:\\Users\\guowc_000\\Anaconda3\\lib\\site-packages\\sklearn\\linear_model\\logistic.py:433: FutureWarning: Default solver will be changed to 'lbfgs' in 0.22. Specify a solver to silence this warning.\n",
      "  FutureWarning)\n",
      "C:\\Users\\guowc_000\\Anaconda3\\lib\\site-packages\\sklearn\\linear_model\\logistic.py:460: FutureWarning: Default multi_class will be changed to 'auto' in 0.22. Specify the multi_class option to silence this warning.\n",
      "  \"this warning.\", FutureWarning)\n",
      "C:\\Users\\guowc_000\\Anaconda3\\lib\\site-packages\\sklearn\\svm\\base.py:922: ConvergenceWarning: Liblinear failed to converge, increase the number of iterations.\n",
      "  \"the number of iterations.\", ConvergenceWarning)\n"
     ]
    },
    {
     "name": "stdout",
     "output_type": "stream",
     "text": [
      "0.3528103877623621\n",
      "{'C': 0.1}\n",
      "CV score on X_test, y_test: 0.35\n",
      "<3948x4961 sparse matrix of type '<class 'numpy.int64'>'\n",
      "\twith 98645 stored elements in Compressed Sparse Row format>\n"
     ]
    }
   ],
   "source": [
    "## A script for practicing ML on text data to predict pet adoption speed based on description.\n",
    "## Script name: predict_adoption_speed_by_description.py\n",
    "## Date: 01/31/2019\n",
    "## Author: Wei Guo\n",
    "## Data source: Gaggle.com PetAdoptionSpeed competition\n",
    "\n",
    "import pandas as pd\n",
    "import numpy as np\n",
    "from sklearn.model_selection import train_test_split\n",
    "from sklearn.linear_model import LogisticRegression\n",
    "from sklearn.feature_extraction.text import CountVectorizer, TfidfVectorizer \n",
    "from sklearn.model_selection import cross_val_score\n",
    "from sklearn.model_selection import GridSearchCV\n",
    "from sklearn.feature_extraction.text import ENGLISH_STOP_WORDS\n",
    "\n",
    "## Load data\n",
    "train = pd.read_csv(\"train.csv\").fillna(' ')\n",
    "test  = pd.read_csv(\"test.csv\").fillna(' ')\n",
    "desc_train=train.Description\n",
    "y = train['AdoptionSpeed']\n",
    "## External test data \n",
    "text_extest_orig = test[['PetID','Description']]\n",
    "\n",
    "text_train, text_test,y_train,y_test = train_test_split(desc_train, y, stratify=y, random_state=42)\n",
    "print(text_train.shape)\n",
    "print(text_train.head(5))\n",
    "print(text_test.shape)\n",
    "print(text_test.head(5))\n",
    "print(y_train.shape)\n",
    "print(y_train.head(5))\n",
    "print(y_test.shape)\n",
    "print(y_test.head(5))\n",
    "\n",
    "vect = CountVectorizer(min_df=5, stop_words=\"english\").fit(text_train)\n",
    "X_train = vect.transform(text_train)\n",
    "X_test  = vect.transform(text_test)\n",
    "print(repr(X_train))\n",
    "print(X_train.toarray())\n",
    "print(repr(X_test))\n",
    "#print(X_train.toarray())\n",
    "\n",
    "# 5-fold cross validation\n",
    "scores = cross_val_score(LogisticRegression(), X_train,y_train,cv=5)\n",
    "print(\"Training mean cross val score: {:.2f}\".format(np.mean(scores)))\n",
    "\n",
    "#Grid search for best regularization parameter C and cross validation\n",
    "param_grid = {'C': [0.001, 0.01, 0.1, 1, 10]}\n",
    "grid = GridSearchCV(LogisticRegression(),param_grid,cv=5)\n",
    "grid.fit(X_train,y_train)\n",
    "print(grid.best_score_)\n",
    "print(grid.best_params_)\n",
    "\n",
    "# Internal validation\n",
    "print(\"CV score on X_test, y_test: {:.2f}\".format(grid.score(X_test, y_test)))\n",
    "\n",
    "# External test\n",
    "text_extest = text_extest_orig.Description\n",
    "X_extest = vect.transform(text_extest)\n",
    "print(repr(X_extest))\n",
    "pred = grid.predict(X_extest)\n",
    "\n",
    "# Prepare submission\n",
    "submission_df = pd.DataFrame(text_extest_orig['PetID'], columns=['PetID'])\n",
    "submission_df['AdoptionSpeed'] = pred\n",
    "submission_df.to_csv(\"AdoptionSpeed_ML_byDescription_013119.csv\", index=False)"
   ]
  },
  {
   "cell_type": "code",
   "execution_count": null,
   "metadata": {},
   "outputs": [],
   "source": []
  }
 ],
 "metadata": {
  "kernelspec": {
   "display_name": "Python 3",
   "language": "python",
   "name": "python3"
  },
  "language_info": {
   "codemirror_mode": {
    "name": "ipython",
    "version": 3
   },
   "file_extension": ".py",
   "mimetype": "text/x-python",
   "name": "python",
   "nbconvert_exporter": "python",
   "pygments_lexer": "ipython3",
   "version": "3.7.1"
  }
 },
 "nbformat": 4,
 "nbformat_minor": 2
}
